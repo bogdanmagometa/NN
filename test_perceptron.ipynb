{
 "cells": [
  {
   "cell_type": "code",
   "execution_count": 5,
   "metadata": {},
   "outputs": [],
   "source": [
    "from typing import List\n",
    "\n",
    "import numpy as np\n",
    "\n",
    "from nn.value import Value\n",
    "from nn.models import Perceptron\n",
    "from nn.optimizer import AdamOptimizer"
   ]
  },
  {
   "cell_type": "code",
   "execution_count": 6,
   "metadata": {},
   "outputs": [],
   "source": [
    "def make_perceptron_value(data: List[Value], weights: List[Value], bias: Value) -> Value:\n",
    "    \"\"\"Create and return a perceptron\n",
    "\n",
    "    Parameters\n",
    "    ----------\n",
    "    data: list of Value objects (len should be >= 1)\n",
    "        each entry represents a feature of x\n",
    "    weights: list of Value objects (len should be >= 1)\n",
    "        list of weights\n",
    "    bias: Value\n",
    "        represents a bias term\n",
    "    \"\"\"\n",
    "    summands = map(lambda d, w: d * w, data, weights)\n",
    "    \n",
    "    linear_comb = next(summands)\n",
    "    for summand in summands:\n",
    "        linear_comb = linear_comb + summand\n",
    "\n",
    "    logit = linear_comb + bias\n",
    "    \n",
    "    probability = logit.sigmoid()\n",
    "\n",
    "    return probability\n",
    "\n",
    "def make_binary_crossentropy_loss(prediction_values: List[Value], ground_truth: List[float]):\n",
    "    loss = 0\n",
    "    for p, g in zip(prediction_values, ground_truth):\n",
    "        if np.isclose(g, 0):\n",
    "            example_cost = (1 - p).log()\n",
    "        elif np.isclose(g, 1):\n",
    "            example_cost = p.log()\n",
    "        loss = loss + example_cost\n",
    "    loss = (-1) * loss\n",
    "    return loss"
   ]
  },
  {
   "attachments": {},
   "cell_type": "markdown",
   "metadata": {},
   "source": [
    "This is an example that demonstrates how to creates loss function:"
   ]
  },
  {
   "cell_type": "code",
   "execution_count": 7,
   "metadata": {},
   "outputs": [],
   "source": [
    "weights = [Value(0), Value(1)]\n",
    "bias = Value(2)\n",
    "\n",
    "data1 = [Value(3), Value(4)]\n",
    "perceptron1 = make_perceptron_value(data1, weights, bias)\n",
    "\n",
    "data2 = [Value(0), Value(0)]\n",
    "perceptron2 = make_perceptron_value(data2, weights, bias)\n",
    "\n",
    "loss = make_binary_crossentropy_loss([perceptron1, perceptron2], [1, 0])"
   ]
  },
  {
   "attachments": {},
   "cell_type": "markdown",
   "metadata": {},
   "source": [
    "This example demonstrates how to train a perceptron to behave like an AND gate:"
   ]
  },
  {
   "cell_type": "code",
   "execution_count": 8,
   "metadata": {},
   "outputs": [
    {
     "name": "stdout",
     "output_type": "stream",
     "text": [
      "Final loss: 0.0033\n",
      "0 0\t->\t0.00\n",
      "0 1\t->\t0.03\n",
      "1 0\t->\t0.03\n",
      "1 1\t->\t0.97\n"
     ]
    }
   ],
   "source": [
    "X = [\n",
    "    [0., 0.],\n",
    "    [0., 1.],\n",
    "    [1., 0.],\n",
    "    [1., 1.],\n",
    "    ]\n",
    "\n",
    "Y = [0., 0., 0., 1.]\n",
    "\n",
    "perceptron = Perceptron(no_weights=2)\n",
    "adam_optimizer = AdamOptimizer(perceptron.parameters(), lr=0.5)\n",
    "\n",
    "def simple_gradient_descent_iteration(model, X, Y, optimizer):\n",
    "    optimizer.zero_grad()\n",
    "\n",
    "    loss = sum(((model(x) - y)**2 for x, y in zip(X, Y)), 0.)\n",
    "\n",
    "    loss.back_prop()\n",
    "\n",
    "    optimizer.step()\n",
    "\n",
    "    return loss.data\n",
    "\n",
    "num_iterations = 100\n",
    "\n",
    "for i in range(num_iterations):\n",
    "    loss = simple_gradient_descent_iteration(perceptron, X, Y, adam_optimizer)\n",
    "print(f\"Final loss: {loss:.2}\")\n",
    "for x in X:\n",
    "    pred_y = np.round(perceptron(x).data, 2)\n",
    "    print(f\"{int(x[0])} {int(x[1])}\\t->\\t{pred_y:.2f}\")\n",
    "# print(\"Final predictions =\", *[ for x in X])"
   ]
  }
 ],
 "metadata": {
  "kernelspec": {
   "display_name": "base",
   "language": "python",
   "name": "python3"
  },
  "language_info": {
   "codemirror_mode": {
    "name": "ipython",
    "version": 3
   },
   "file_extension": ".py",
   "mimetype": "text/x-python",
   "name": "python",
   "nbconvert_exporter": "python",
   "pygments_lexer": "ipython3",
   "version": "3.10.9"
  },
  "orig_nbformat": 4
 },
 "nbformat": 4,
 "nbformat_minor": 2
}
