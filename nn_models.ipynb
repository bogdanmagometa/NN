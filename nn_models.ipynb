{
 "cells": [
  {
   "cell_type": "code",
   "execution_count": 1,
   "metadata": {},
   "outputs": [],
   "source": [
    "from typing import Union, List\n",
    "\n",
    "import matplotlib.pyplot as plt\n",
    "from torchvision import datasets\n",
    "from torchvision.transforms import ToTensor\n",
    "from torch.nn import functional as F\n",
    "from IPython.display import clear_output\n",
    "import torch\n",
    "from torch.utils.data import DataLoader, Dataset, random_split\n",
    "import numpy as np\n",
    "\n",
    "from nn.module import Linear, SoftmaxActivation, ReLUActivation, SigmoidActivation\n",
    "from nn.value import Value\n",
    "from nn.optimizer import AdamOptimizer, RMSPropOptimizer"
   ]
  },
  {
   "attachments": {},
   "cell_type": "markdown",
   "metadata": {},
   "source": [
    "## Data preparation"
   ]
  },
  {
   "cell_type": "code",
   "execution_count": 2,
   "metadata": {},
   "outputs": [],
   "source": [
    "class Mnist(Dataset):\n",
    "\n",
    "    def __init__(self, train=True):\n",
    "        try:\n",
    "            self.data = datasets.MNIST(root='./', train=train, download=False, transform=ToTensor())\n",
    "        except RuntimeError:\n",
    "            self.data = datasets.MNIST(root='./', train=train, download=True , transform=ToTensor())\n",
    "            clear_output()\n",
    "\n",
    "        self.x = self.data.data / 255.\n",
    "        self.labels = self.data.targets\n",
    "        self.y = F.one_hot(self.labels, num_classes=10).float()\n",
    "\n",
    "    def __len__(self): \n",
    "        return self.x.shape[0]\n",
    "\n",
    "    def __getitem__(self, ix): \n",
    "        return self.x[ix], self.y[ix]"
   ]
  },
  {
   "cell_type": "code",
   "execution_count": 3,
   "metadata": {},
   "outputs": [
    {
     "data": {
      "text/plain": [
       "(torch.Size([60000, 28, 28]), torch.Size([60000]), torch.Size([60000, 10]))"
      ]
     },
     "execution_count": 3,
     "metadata": {},
     "output_type": "execute_result"
    }
   ],
   "source": [
    "train = Mnist(train=True)\n",
    "\n",
    "train.x.shape, train.labels.shape, train.y.shape"
   ]
  },
  {
   "cell_type": "code",
   "execution_count": 4,
   "metadata": {},
   "outputs": [
    {
     "data": {
      "image/png": "[encoded data removed]",
      "text/plain": [
       "<Figure size 900x400 with 10 Axes>"
      ]
     },
     "metadata": {},
     "output_type": "display_data"
    }
   ],
   "source": [
    "generator = torch.manual_seed(1003)\n",
    "fig, axes = plt.subplots(2, 5, figsize=(9, 4))\n",
    "for i, sample in enumerate(torch.randint(len(train), (10, ), generator=generator)):\n",
    "    ax = axes[i // 5, i % 5]\n",
    "    ax.imshow(train.x[sample], cmap='gray')\n",
    "    ax.set_title('Label: {}'.format(train.labels[sample]))\n",
    "_ = plt.tight_layout()"
   ]
  },
  {
   "cell_type": "code",
   "execution_count": 5,
   "metadata": {},
   "outputs": [],
   "source": [
    "batch_size = 64\n",
    "\n",
    "train_dataloader = DataLoader(train, batch_size=batch_size)"
   ]
  },
  {
   "attachments": {},
   "cell_type": "markdown",
   "metadata": {},
   "source": [
    "## NN models"
   ]
  },
  {
   "attachments": {},
   "cell_type": "markdown",
   "metadata": {},
   "source": [
    "### Single layer NN"
   ]
  },
  {
   "cell_type": "code",
   "execution_count": 6,
   "metadata": {},
   "outputs": [],
   "source": [
    "class SingleLayerNN:\n",
    "    def __init__(self, num_inputs, num_outputs, activation_class=SoftmaxActivation):\n",
    "        self._num_inputs = num_inputs\n",
    "        self._num_outputs = num_outputs\n",
    "        self._linear_layer = Linear(num_inputs, num_outputs)\n",
    "        self._activation_layer = activation_class(num_outputs)\n",
    "\n",
    "    def __call__(self, X: Union[List[List[float]], torch.Tensor]) -> List[List[float]]:\n",
    "        \"\"\"Forward pass for multiple samples\n",
    "\n",
    "        Parameters\n",
    "        ----------\n",
    "        X: 2D array (list or torch.Tensor)\n",
    "            Input samples (each row is a sample)\n",
    "\n",
    "        Return\n",
    "        ------\n",
    "            2D list of floats\n",
    "        \"\"\"\n",
    "        if isinstance(X, torch.Tensor):\n",
    "            X = X.tolist()\n",
    "        return [self._single_sample_forward(X[i]) for i in range(len(X))]\n",
    "\n",
    "    def _single_sample_forward(self, x):\n",
    "        logits = self._linear_layer(x)\n",
    "        return self._activation_layer(logits)\n",
    "\n",
    "    def parameters(self):\n",
    "        return self._linear_layer.parameters() + self._activation_layer.parameters()\n",
    "\n",
    "single_layer_nn = SingleLayerNN(28 ** 2, 10, )"
   ]
  },
  {
   "attachments": {},
   "cell_type": "markdown",
   "metadata": {},
   "source": [
    "### MLP"
   ]
  },
  {
   "cell_type": "code",
   "execution_count": 7,
   "metadata": {},
   "outputs": [],
   "source": [
    "class MLP:\n",
    "    def __init__(self):\n",
    "        self._layers = [Linear(28**2, 16), Linear(16, 16), Linear(16, 10)]\n",
    "        self._activations = [SigmoidActivation(16), ReLUActivation(16), SoftmaxActivation(10)]\n",
    "\n",
    "    def __call__(self, X: Union[List[List[float]], torch.Tensor]) -> List[List[float]]:\n",
    "        \"\"\"Forward pass for multiple samples\n",
    "\n",
    "        Parameters\n",
    "        ----------\n",
    "        X: 2D array (list or torch.Tensor)\n",
    "            Input samples (each row is a sample)\n",
    "\n",
    "        Return\n",
    "        ------\n",
    "            2D list of floats\n",
    "        \"\"\"\n",
    "        if isinstance(X, torch.Tensor):\n",
    "            X = X.tolist()\n",
    "        return [self._single_sample_forward(X[i]) for i in range(len(X))]\n",
    "\n",
    "    def _single_sample_forward(self, x):\n",
    "        for linear_layer, activation_layer in zip(self._layers, self._activations):\n",
    "            x = linear_layer(x)\n",
    "            x = activation_layer(x)\n",
    "        return x\n",
    "\n",
    "    def parameters(self):\n",
    "        params = []\n",
    "        for layer in self._layers:\n",
    "            params.extend(layer.parameters())\n",
    "        for activation in self._activations:\n",
    "            params.extend(activation.parameters())\n",
    "\n",
    "        return params"
   ]
  },
  {
   "attachments": {},
   "cell_type": "markdown",
   "metadata": {},
   "source": [
    "### CNN"
   ]
  },
  {
   "attachments": {},
   "cell_type": "markdown",
   "metadata": {},
   "source": [
    "## Losses"
   ]
  },
  {
   "cell_type": "code",
   "execution_count": 8,
   "metadata": {},
   "outputs": [],
   "source": [
    "def mse_loss(Y_pred: List[List[Value]], Y: torch.Tensor):\n",
    "    \"\"\"\n",
    "    Parameters\n",
    "    ----------\n",
    "    Y_pred: 2D array\n",
    "        each row is corresponds to a sample\n",
    "    Y: 2D array\n",
    "        each row is corresponds to a sample\n",
    "    \"\"\"\n",
    "    if isinstance(Y, torch.Tensor):\n",
    "        Y = Y.tolist()\n",
    "    n = len(Y_pred)\n",
    "    loss = 0\n",
    "    for y_pred, y in zip(Y_pred, Y):\n",
    "        loss = loss + sum((y_pred_i - y_i)**2 for y_pred_i, y_i in zip(y_pred, y))\n",
    "    loss = loss / n\n",
    "    return loss\n",
    "\n",
    "def cross_entropy_loss(Y_pred: List[List[Value]], Y: torch.Tensor):\n",
    "    if isinstance(Y, torch.Tensor):\n",
    "        Y = Y.tolist()\n",
    "    n = len(Y_pred)\n",
    "    loss = 0\n",
    "    for y_pred, y in zip(Y_pred, Y):\n",
    "        truth_label_idx = y.index(1)\n",
    "        loss = loss + y_pred[truth_label_idx].log()\n",
    "    loss = loss / n\n",
    "    return -loss\n"
   ]
  },
  {
   "attachments": {},
   "cell_type": "markdown",
   "metadata": {},
   "source": [
    "## Training"
   ]
  },
  {
   "cell_type": "code",
   "execution_count": 9,
   "metadata": {},
   "outputs": [],
   "source": [
    "def train_one_epoch(model, dataloader, L, optimizer):\n",
    "    train_loss = 0.\n",
    "\n",
    "    for idx, (X, y) in enumerate(dataloader):\n",
    "        print(\"Iteration:\", idx)\n",
    "        X = X.reshape(X.shape[0], -1)\n",
    "\n",
    "        pred = model(X.tolist())\n",
    "        loss = L(pred, y)\n",
    "        print(\"Loss:\", loss.data)\n",
    "        train_loss += loss.data\n",
    "        \n",
    "        optimizer.zero_grad()\n",
    "        loss.back_prop()\n",
    "        optimizer.step()\n",
    "\n",
    "    return train_loss / (idx + 1)"
   ]
  },
  {
   "attachments": {},
   "cell_type": "markdown",
   "metadata": {},
   "source": [
    "### Training Single Layer Neural Net"
   ]
  },
  {
   "cell_type": "code",
   "execution_count": 10,
   "metadata": {},
   "outputs": [
    {
     "name": "stdout",
     "output_type": "stream",
     "text": [
      "Iteration 0\n",
      "1.529675801585129\n"
     ]
    },
    {
     "name": "stderr",
     "output_type": "stream",
     "text": [
      "/home/bohdan/MFML/NN/nn/nn.py:77: RuntimeWarning: invalid value encountered in log\n",
      "  local_grad_wrt_exponent = np.log(self.data) * out.data\n"
     ]
    },
    {
     "name": "stdout",
     "output_type": "stream",
     "text": [
      "Iteration 1\n",
      "1.5847287302371014\n",
      "Iteration 2\n",
      "1.5345824705132936\n",
      "Iteration 3\n",
      "1.5096761557897787\n",
      "Iteration 4\n",
      "1.3934802120384253\n",
      "Iteration 5\n",
      "1.3818821953911784\n",
      "Iteration 6\n",
      "1.194910672305235\n",
      "Iteration 7\n",
      "1.1460065452849164\n",
      "Iteration 8\n",
      "1.4331324721770455\n",
      "Iteration 9\n",
      "1.16262921792541\n",
      "Iteration 10\n",
      "1.2898492314903036\n",
      "Iteration 11\n",
      "1.2728454413651618\n",
      "Iteration 12\n",
      "1.1011343211753206\n",
      "Iteration 13\n",
      "1.2316576714081449\n",
      "Iteration 14\n",
      "1.2071401090618517\n",
      "Iteration 15\n",
      "1.1783495359323286\n",
      "Iteration 16\n",
      "1.1242712298405388\n",
      "Iteration 17\n",
      "1.1710726807346903\n",
      "Iteration 18\n",
      "1.1886052264266946\n",
      "Iteration 19\n",
      "1.2632702889715537\n",
      "Iteration 20\n",
      "1.1317978720700035\n",
      "Iteration 21\n",
      "1.152304434684629\n",
      "Iteration 22\n",
      "1.1683663661316777\n",
      "Iteration 23\n",
      "0.9679259629557802\n",
      "Iteration 24\n",
      "1.2451207777693243\n",
      "Iteration 25\n",
      "1.1285748244840916\n",
      "Iteration 26\n",
      "0.9051901123527144\n",
      "Iteration 27\n",
      "1.1107427523836553\n",
      "Iteration 28\n",
      "0.9799026611666384\n",
      "Iteration 29\n",
      "1.0405849928356532\n",
      "Iteration 30\n",
      "0.9390968842436375\n",
      "Iteration 31\n",
      "1.0681372007620393\n",
      "Iteration 32\n",
      "1.0385663673862806\n",
      "Iteration 33\n",
      "0.9375012136390294\n",
      "Iteration 34\n",
      "1.0773160658879684\n",
      "Iteration 35\n",
      "1.1788445730633048\n",
      "Iteration 36\n"
     ]
    }
   ],
   "source": [
    "adam_optimizer = AdamOptimizer(single_layer_nn.parameters())\n",
    "\n",
    "train_one_epoch(single_layer_nn, train_dataloader, cross_entropy_loss, adam_optimizer)"
   ]
  },
  {
   "attachments": {},
   "cell_type": "markdown",
   "metadata": {},
   "source": [
    "### Training MLP"
   ]
  },
  {
   "cell_type": "code",
   "execution_count": 10,
   "metadata": {},
   "outputs": [
    {
     "name": "stdout",
     "output_type": "stream",
     "text": [
      "Iteration 0\n",
      "5.122727743047129\n",
      "Iteration 1\n",
      "4.534508000586788\n",
      "Iteration 2\n",
      "4.816223004539893\n",
      "Iteration 3\n",
      "4.6220084948440565\n",
      "Iteration 4\n",
      "5.124501983426656\n",
      "Iteration 5\n",
      "4.877552391370841\n",
      "Iteration 6\n",
      "5.355560363345898\n",
      "Iteration 7\n",
      "5.204331438855478\n",
      "Iteration 8\n",
      "4.506618392331651\n",
      "Iteration 9\n",
      "5.161629420985222\n",
      "Iteration 10\n",
      "4.060106880227875\n",
      "Iteration 11\n",
      "4.835505861542301\n",
      "Iteration 12\n",
      "4.967512329552289\n",
      "Iteration 13\n",
      "4.0454648186980675\n",
      "Iteration 14\n",
      "4.908632351369028\n",
      "Iteration 15\n",
      "4.05601383963408\n",
      "Iteration 16\n",
      "4.220562858813823\n",
      "Iteration 17\n",
      "4.288389494000136\n",
      "Iteration 18\n",
      "3.6179272847468433\n",
      "Iteration 19\n",
      "3.78506929979376\n",
      "Iteration 20\n",
      "4.937564879994476\n",
      "Iteration 21\n",
      "4.000968397254889\n",
      "Iteration 22\n",
      "3.846823262245305\n",
      "Iteration 23\n",
      "4.149397699658529\n",
      "Iteration 24\n",
      "3.8241234597940674\n",
      "Iteration 25\n",
      "3.721277168833699\n",
      "Iteration 26\n"
     ]
    },
    {
     "ename": "KeyboardInterrupt",
     "evalue": "",
     "output_type": "error",
     "traceback": [
      "\u001b[0;31m---------------------------------------------------------------------------\u001b[0m",
      "\u001b[0;31mKeyboardInterrupt\u001b[0m                         Traceback (most recent call last)",
      "Cell \u001b[0;32mIn[10], line 4\u001b[0m\n\u001b[1;32m      1\u001b[0m mlp \u001b[39m=\u001b[39m MLP()\n\u001b[1;32m      2\u001b[0m adam_optimizer \u001b[39m=\u001b[39m AdamOptimizer(mlp\u001b[39m.\u001b[39mparameters())\n\u001b[0;32m----> 4\u001b[0m train_one_epoch(mlp, train_dataloader, cross_entropy_loss, adam_optimizer)\n",
      "Cell \u001b[0;32mIn[9], line 8\u001b[0m, in \u001b[0;36mtrain_one_epoch\u001b[0;34m(model, dataloader, L, optimizer)\u001b[0m\n\u001b[1;32m      5\u001b[0m \u001b[39mprint\u001b[39m(\u001b[39m\"\u001b[39m\u001b[39mIteration\u001b[39m\u001b[39m\"\u001b[39m, idx)\n\u001b[1;32m      6\u001b[0m X \u001b[39m=\u001b[39m X\u001b[39m.\u001b[39mreshape(X\u001b[39m.\u001b[39mshape[\u001b[39m0\u001b[39m], \u001b[39m-\u001b[39m\u001b[39m1\u001b[39m)\n\u001b[0;32m----> 8\u001b[0m pred \u001b[39m=\u001b[39m model(X\u001b[39m.\u001b[39;49mtolist())\n\u001b[1;32m      9\u001b[0m loss \u001b[39m=\u001b[39m L(pred, y)\n\u001b[1;32m     10\u001b[0m \u001b[39mprint\u001b[39m(loss\u001b[39m.\u001b[39mdata)\n",
      "Cell \u001b[0;32mIn[7], line 20\u001b[0m, in \u001b[0;36mMLP.__call__\u001b[0;34m(self, X)\u001b[0m\n\u001b[1;32m     18\u001b[0m \u001b[39mif\u001b[39;00m \u001b[39misinstance\u001b[39m(X, torch\u001b[39m.\u001b[39mTensor):\n\u001b[1;32m     19\u001b[0m     X \u001b[39m=\u001b[39m X\u001b[39m.\u001b[39mtolist()\n\u001b[0;32m---> 20\u001b[0m \u001b[39mreturn\u001b[39;00m [\u001b[39mself\u001b[39m\u001b[39m.\u001b[39m_single_sample_forward(X[i]) \u001b[39mfor\u001b[39;00m i \u001b[39min\u001b[39;00m \u001b[39mrange\u001b[39m(\u001b[39mlen\u001b[39m(X))]\n",
      "Cell \u001b[0;32mIn[7], line 20\u001b[0m, in \u001b[0;36m<listcomp>\u001b[0;34m(.0)\u001b[0m\n\u001b[1;32m     18\u001b[0m \u001b[39mif\u001b[39;00m \u001b[39misinstance\u001b[39m(X, torch\u001b[39m.\u001b[39mTensor):\n\u001b[1;32m     19\u001b[0m     X \u001b[39m=\u001b[39m X\u001b[39m.\u001b[39mtolist()\n\u001b[0;32m---> 20\u001b[0m \u001b[39mreturn\u001b[39;00m [\u001b[39mself\u001b[39;49m\u001b[39m.\u001b[39;49m_single_sample_forward(X[i]) \u001b[39mfor\u001b[39;00m i \u001b[39min\u001b[39;00m \u001b[39mrange\u001b[39m(\u001b[39mlen\u001b[39m(X))]\n",
      "Cell \u001b[0;32mIn[7], line 24\u001b[0m, in \u001b[0;36mMLP._single_sample_forward\u001b[0;34m(self, x)\u001b[0m\n\u001b[1;32m     22\u001b[0m \u001b[39mdef\u001b[39;00m \u001b[39m_single_sample_forward\u001b[39m(\u001b[39mself\u001b[39m, x):\n\u001b[1;32m     23\u001b[0m     \u001b[39mfor\u001b[39;00m linear_layer, activation_layer \u001b[39min\u001b[39;00m \u001b[39mzip\u001b[39m(\u001b[39mself\u001b[39m\u001b[39m.\u001b[39m_layers, \u001b[39mself\u001b[39m\u001b[39m.\u001b[39m_activations):\n\u001b[0;32m---> 24\u001b[0m         x \u001b[39m=\u001b[39m linear_layer(x)\n\u001b[1;32m     25\u001b[0m         x \u001b[39m=\u001b[39m activation_layer(x)\n\u001b[1;32m     26\u001b[0m     \u001b[39mreturn\u001b[39;00m x\n",
      "File \u001b[0;32m~/MFML/NN/nn/module.py:27\u001b[0m, in \u001b[0;36mLinear.__call__\u001b[0;34m(self, x)\u001b[0m\n\u001b[1;32m     25\u001b[0m \u001b[39mfor\u001b[39;00m out_idx, out_weights \u001b[39min\u001b[39;00m \u001b[39menumerate\u001b[39m(\u001b[39mself\u001b[39m\u001b[39m.\u001b[39m_weights):\n\u001b[1;32m     26\u001b[0m     \u001b[39mfor\u001b[39;00m in_idx, weight \u001b[39min\u001b[39;00m \u001b[39menumerate\u001b[39m(out_weights):\n\u001b[0;32m---> 27\u001b[0m         logits[out_idx] \u001b[39m+\u001b[39m\u001b[39m=\u001b[39m weight \u001b[39m*\u001b[39m x[in_idx]\n\u001b[1;32m     28\u001b[0m \u001b[39mreturn\u001b[39;00m logits\n",
      "File \u001b[0;32m~/MFML/NN/nn/nn.py:23\u001b[0m, in \u001b[0;36mValue.__add__\u001b[0;34m(self, other)\u001b[0m\n\u001b[1;32m     20\u001b[0m     \u001b[39mself\u001b[39m\u001b[39m.\u001b[39mgrad \u001b[39m=\u001b[39m \u001b[39m0.0\u001b[39m\n\u001b[1;32m     21\u001b[0m     \u001b[39mself\u001b[39m\u001b[39m.\u001b[39m_backward \u001b[39m=\u001b[39m \u001b[39mlambda\u001b[39;00m: \u001b[39mNone\u001b[39;00m\n\u001b[0;32m---> 23\u001b[0m \u001b[39mdef\u001b[39;00m \u001b[39m__add__\u001b[39m(\u001b[39mself\u001b[39m, other: Union[\u001b[39m'\u001b[39m\u001b[39mValue\u001b[39m\u001b[39m'\u001b[39m, \u001b[39mfloat\u001b[39m]) \u001b[39m-\u001b[39m\u001b[39m>\u001b[39m \u001b[39m'\u001b[39m\u001b[39mValue\u001b[39m\u001b[39m'\u001b[39m:\n\u001b[1;32m     24\u001b[0m     \u001b[39mif\u001b[39;00m \u001b[39mnot\u001b[39;00m \u001b[39misinstance\u001b[39m(other, Value):\n\u001b[1;32m     25\u001b[0m         other \u001b[39m=\u001b[39m Value(other)\n",
      "\u001b[0;31mKeyboardInterrupt\u001b[0m: "
     ]
    }
   ],
   "source": [
    "mlp = MLP()\n",
    "adam_optimizer = AdamOptimizer(mlp.parameters())\n",
    "\n",
    "train_one_epoch(mlp, train_dataloader, cross_entropy_loss, adam_optimizer)"
   ]
  }
 ],
 "metadata": {
  "kernelspec": {
   "display_name": "base",
   "language": "python",
   "name": "python3"
  },
  "language_info": {
   "codemirror_mode": {
    "name": "ipython",
    "version": 3
   },
   "file_extension": ".py",
   "mimetype": "text/x-python",
   "name": "python",
   "nbconvert_exporter": "python",
   "pygments_lexer": "ipython3",
   "version": "3.10.9"
  },
  "orig_nbformat": 4
 },
 "nbformat": 4,
 "nbformat_minor": 2
}
