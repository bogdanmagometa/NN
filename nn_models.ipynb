{
 "cells": [
  {
   "cell_type": "code",
   "execution_count": 1,
   "metadata": {},
   "outputs": [],
   "source": [
    "from typing import Union, List\n",
    "\n",
    "import matplotlib.pyplot as plt\n",
    "from torchvision import datasets\n",
    "from torchvision.transforms import ToTensor\n",
    "from torch.nn import functional as F\n",
    "from IPython.display import clear_output\n",
    "import torch\n",
    "from torch.utils.data import DataLoader, Dataset, random_split\n",
    "import numpy as np\n",
    "import time\n",
    "from tqdm import tqdm\n",
    "\n",
    "from nn.module import Linear, SoftmaxActivation, ReLUActivation, SigmoidActivation\n",
    "from nn.value import Value\n",
    "from nn.tensor import Tensor\n",
    "from nn.optimizer import VanillaGradientDescentOptimizer, MomentumOptimizer, AdamOptimizer, RMSPropOptimizer\n"
   ]
  },
  {
   "attachments": {},
   "cell_type": "markdown",
   "metadata": {},
   "source": [
    "## Data preparation"
   ]
  },
  {
   "cell_type": "code",
   "execution_count": 2,
   "metadata": {},
   "outputs": [],
   "source": [
    "class Mnist(Dataset):\n",
    "\n",
    "    def __init__(self, train=True):\n",
    "        try:\n",
    "            self.data = datasets.MNIST(root='./', train=train, download=False, transform=ToTensor())\n",
    "        except RuntimeError:\n",
    "            self.data = datasets.MNIST(root='./', train=train, download=True , transform=ToTensor())\n",
    "            clear_output()\n",
    "\n",
    "        self.x = self.data.data / 255.\n",
    "        self.labels = self.data.targets\n",
    "        self.y = F.one_hot(self.labels, num_classes=10).float()\n",
    "\n",
    "    def __len__(self): \n",
    "        return self.x.shape[0]\n",
    "\n",
    "    def __getitem__(self, ix): \n",
    "        return self.x[ix], self.y[ix]"
   ]
  },
  {
   "cell_type": "code",
   "execution_count": 3,
   "metadata": {},
   "outputs": [
    {
     "data": {
      "text/plain": [
       "(torch.Size([60000, 28, 28]), torch.Size([60000]), torch.Size([60000, 10]))"
      ]
     },
     "execution_count": 3,
     "metadata": {},
     "output_type": "execute_result"
    }
   ],
   "source": [
    "train = Mnist(train=True)\n",
    "\n",
    "train.x.shape, train.labels.shape, train.y.shape"
   ]
  },
  {
   "cell_type": "code",
   "execution_count": 4,
   "metadata": {},
   "outputs": [
    {
     "data": {
      "image/png": "[encoded data removed]",
      "text/plain": [
       "<Figure size 900x400 with 10 Axes>"
      ]
     },
     "metadata": {},
     "output_type": "display_data"
    }
   ],
   "source": [
    "generator = torch.manual_seed(1003)\n",
    "fig, axes = plt.subplots(2, 5, figsize=(9, 4))\n",
    "for i, sample in enumerate(torch.randint(len(train), (10, ), generator=generator)):\n",
    "    ax = axes[i // 5, i % 5]\n",
    "    ax.imshow(train.x[sample], cmap='gray')\n",
    "    ax.set_title('Label: {}'.format(train.labels[sample]))\n",
    "_ = plt.tight_layout()"
   ]
  },
  {
   "cell_type": "code",
   "execution_count": 5,
   "metadata": {},
   "outputs": [],
   "source": [
    "batch_size = 64\n",
    "\n",
    "train_dataloader = DataLoader(train, batch_size=batch_size)"
   ]
  },
  {
   "attachments": {},
   "cell_type": "markdown",
   "metadata": {},
   "source": [
    "## NN models"
   ]
  },
  {
   "attachments": {},
   "cell_type": "markdown",
   "metadata": {},
   "source": [
    "### Single layer NN"
   ]
  },
  {
   "cell_type": "code",
   "execution_count": 6,
   "metadata": {},
   "outputs": [],
   "source": [
    "class SingleLayerNN:\n",
    "    def __init__(self, num_inputs, num_outputs, activation_class=SoftmaxActivation):\n",
    "        self._num_inputs = num_inputs\n",
    "        self._num_outputs = num_outputs\n",
    "        self._linear_layer = Linear(num_inputs, num_outputs)\n",
    "        self._activation_layer = activation_class(num_outputs)\n",
    "\n",
    "    def __call__(self, X: Union[List[List[float]], torch.Tensor]) -> List[List[float]]:\n",
    "        \"\"\"Forward pass for multiple samples\n",
    "\n",
    "        Parameters\n",
    "        ----------\n",
    "        X: 2D array (list or torch.Tensor)\n",
    "            Input samples (each row is a sample)\n",
    "\n",
    "        Return\n",
    "        ------\n",
    "            2D list of floats\n",
    "        \"\"\"\n",
    "        logits = self._linear_layer(X)\n",
    "        return self._activation_layer(logits)\n",
    "\n",
    "    def _single_sample_forward(self, x):\n",
    "        logits = self._linear_layer(x)\n",
    "        return self._activation_layer(logits)\n",
    "\n",
    "    def parameters(self):\n",
    "        return self._linear_layer.parameters() + self._activation_layer.parameters()\n",
    "\n",
    "single_layer_nn = SingleLayerNN(28 ** 2, 10, )"
   ]
  },
  {
   "attachments": {},
   "cell_type": "markdown",
   "metadata": {},
   "source": [
    "### MLP"
   ]
  },
  {
   "cell_type": "code",
   "execution_count": 7,
   "metadata": {},
   "outputs": [],
   "source": [
    "class MLP:\n",
    "    def __init__(self):\n",
    "        self._layers = [Linear(28**2, 16), Linear(16, 16), Linear(16, 10)]\n",
    "        self._activations = [SigmoidActivation(16), ReLUActivation(16), SoftmaxActivation(10)]\n",
    "\n",
    "    def __call__(self, X: Tensor) -> Tensor:\n",
    "        \"\"\"Forward pass for multiple samples\n",
    "\n",
    "        Parameters\n",
    "        ----------\n",
    "        X: 2D Tensor\n",
    "            Input samples (each row is a sample)\n",
    "\n",
    "        Return\n",
    "        ------\n",
    "            2D Tensor\n",
    "        \"\"\"\n",
    "        for linear_layer, activation_layer in zip(self._layers, self._activations):\n",
    "            X = linear_layer(X)\n",
    "            X = activation_layer(X)\n",
    "\n",
    "        return X\n",
    "\n",
    "    def parameters(self) -> List[Tensor]:\n",
    "        params = []\n",
    "        for layer in self._layers:\n",
    "            params.extend(layer.parameters())\n",
    "        for activation in self._activations:\n",
    "            params.extend(activation.parameters())\n",
    "\n",
    "        return params"
   ]
  },
  {
   "attachments": {},
   "cell_type": "markdown",
   "metadata": {},
   "source": [
    "## Losses"
   ]
  },
  {
   "cell_type": "code",
   "execution_count": 8,
   "metadata": {},
   "outputs": [],
   "source": [
    "def mse_loss(Y_pred: List[List[Tensor]], Y: torch.Tensor):\n",
    "    \"\"\"\n",
    "    Parameters\n",
    "    ----------\n",
    "    Y_pred: 2D array\n",
    "        each row is corresponds to a sample\n",
    "    Y: 2D array\n",
    "        each row is corresponds to a sample\n",
    "    \"\"\"\n",
    "    if isinstance(Y, torch.Tensor):\n",
    "        Y = Y.tolist()\n",
    "    n = len(Y_pred)\n",
    "    loss = 0\n",
    "    for y_pred, y in zip(Y_pred, Y):\n",
    "        loss = loss + sum((y_pred_i - y_i)**2 for y_pred_i, y_i in zip(y_pred, y))\n",
    "    loss = loss / n\n",
    "    return loss\n",
    "\n",
    "def cross_entropy_loss(Y_pred: Tensor, Y: torch.Tensor):\n",
    "    if isinstance(Y, torch.Tensor):\n",
    "        Y = Y.numpy().astype(np.float64)\n",
    "    n = len(Y)\n",
    "    loss = (Y_pred * Y).sum(1).log().sum() / n\n",
    "    return -loss"
   ]
  },
  {
   "attachments": {},
   "cell_type": "markdown",
   "metadata": {},
   "source": [
    "## Training"
   ]
  },
  {
   "cell_type": "code",
   "execution_count": 9,
   "metadata": {},
   "outputs": [],
   "source": [
    "def train_one_epoch(model, dataloader, L, optimizer):\n",
    "    train_loss = 0.\n",
    "\n",
    "    with tqdm(enumerate(dataloader), unit=\"batch\") as tepoch:\n",
    "        for idx, (X, y) in tepoch:\n",
    "            X = Tensor(X.reshape(X.shape[0], -1).numpy().astype(np.float64))\n",
    "\n",
    "            pred = model(X)\n",
    "            loss = L(pred, y)\n",
    "\n",
    "            train_loss += loss.data\n",
    "\n",
    "            optimizer.zero_grad()\n",
    "            loss.back_prop()\n",
    "            optimizer.step()\n",
    "\n",
    "            tepoch.set_postfix(batch_loss=np.round(loss.data, 2), total_loss_so_far=train_loss / (idx + 1))\n",
    "\n",
    "    return train_loss / (idx + 1)"
   ]
  },
  {
   "attachments": {},
   "cell_type": "markdown",
   "metadata": {},
   "source": [
    "### Training Single Layer Neural Net"
   ]
  },
  {
   "cell_type": "code",
   "execution_count": 10,
   "metadata": {},
   "outputs": [],
   "source": [
    "adam_optimizer = AdamOptimizer(single_layer_nn.parameters(), lr=0.01)\n",
    "\n",
    "# train_one_epoch(single_layer_nn, train_dataloader, cross_entropy_loss, adam_optimizer)"
   ]
  },
  {
   "attachments": {},
   "cell_type": "markdown",
   "metadata": {},
   "source": [
    "After training, let's evaluate the results:"
   ]
  },
  {
   "cell_type": "code",
   "execution_count": 11,
   "metadata": {},
   "outputs": [],
   "source": [
    "test_ds = train.x.numpy().astype(np.float64)\n",
    "test_ds = test_ds.reshape(test_ds.shape[0], -1)\n",
    "pred_y = single_layer_nn(Tensor(test_ds)).data\n",
    "pred_labels = np.argmax(pred_y, 1)"
   ]
  },
  {
   "cell_type": "code",
   "execution_count": 12,
   "metadata": {},
   "outputs": [
    {
     "name": "stdout",
     "output_type": "stream",
     "text": [
      "Train Loss: 12.24\n",
      "Train Accuracy: 0.08\n"
     ]
    }
   ],
   "source": [
    "loss = -np.log(np.sum(pred_y * train.y.numpy(), axis=1)).mean()\n",
    "acc = np.mean((pred_labels == train.labels.numpy()).astype(np.float64))\n",
    "\n",
    "print(f\"Train Loss: {loss:.2f}\")\n",
    "print(f\"Train Accuracy: {acc:.2f}\")"
   ]
  },
  {
   "cell_type": "code",
   "execution_count": 13,
   "metadata": {},
   "outputs": [
    {
     "data": {
      "image/png": "[encoded data removed]",
      "text/plain": [
       "<Figure size 1000x400 with 10 Axes>"
      ]
     },
     "metadata": {},
     "output_type": "display_data"
    }
   ],
   "source": [
    "generator = torch.manual_seed(1003)\n",
    "fig, axes = plt.subplots(2, 5, figsize=(10, 4))\n",
    "for i, sample in enumerate(torch.randint(len(train), (10, ), generator=generator)):\n",
    "    ax = axes[i // 5, i % 5]\n",
    "    ax.imshow(train.x[sample], cmap='gray')\n",
    "    predicted_label = single_layer_nn(Tensor(train.x[sample].numpy().reshape(1, -1).astype(np.float64))).data\n",
    "    predicted_label = np.argmax(predicted_label, 1)\n",
    "    ax.set_title('Predicted label: {}'.format(predicted_label))\n",
    "_ = plt.tight_layout()"
   ]
  },
  {
   "attachments": {},
   "cell_type": "markdown",
   "metadata": {},
   "source": [
    "### Training MLP"
   ]
  },
  {
   "cell_type": "code",
   "execution_count": 14,
   "metadata": {},
   "outputs": [
    {
     "name": "stderr",
     "output_type": "stream",
     "text": [
      "0batch [00:00, ?batch/s]/home/bohdan/MFML/NN/nn/optimizer.py:45: VisibleDeprecationWarning: Creating an ndarray from ragged nested sequences (which is a list-or-tuple of lists-or-tuples-or ndarrays with different lengths or shapes) is deprecated. If you meant to do this, you must specify 'dtype=object' when creating the ndarray.\n",
      "  gradient = np.array([param.grad for param in self._parameters])\n",
      "91batch [01:40,  1.04batch/s, batch_loss=4.89, total_loss_so_far=7.19]"
     ]
    }
   ],
   "source": [
    "mlp = MLP()\n",
    "adam_optimizer = MomentumOptimizer(mlp.parameters())\n",
    "\n",
    "train_one_epoch(mlp, train_dataloader, cross_entropy_loss, adam_optimizer)"
   ]
  }
 ],
 "metadata": {
  "kernelspec": {
   "display_name": "base",
   "language": "python",
   "name": "python3"
  },
  "language_info": {
   "codemirror_mode": {
    "name": "ipython",
    "version": 3
   },
   "file_extension": ".py",
   "mimetype": "text/x-python",
   "name": "python",
   "nbconvert_exporter": "python",
   "pygments_lexer": "ipython3",
   "version": "3.10.9"
  },
  "orig_nbformat": 4
 },
 "nbformat": 4,
 "nbformat_minor": 2
}
